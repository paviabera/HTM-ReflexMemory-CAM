{
 "cells": [
  {
   "cell_type": "code",
   "execution_count": 1,
   "metadata": {},
   "outputs": [],
   "source": [
    "from htm.bindings.sdr import SDR\n",
    "from htm.algorithms import SpatialPooler\n",
    "from htm.bindings.algorithms import TemporalMemory\n",
    "import copy"
   ]
  },
  {
   "cell_type": "code",
   "execution_count": 2,
   "metadata": {},
   "outputs": [],
   "source": [
    "class ReflexiveMemory:\n",
    "  def __init__(self):\n",
    "    self.previous_sdr = None\n",
    "    self.pairs = {}\n",
    "\n",
    "  def add(self, sdr):\n",
    "    current_sdr = '-'.join(map(str, sdr))\n",
    "    if(self.previous_sdr != None):\n",
    "      values = self.pairs.get(self.previous_sdr, {})\n",
    "      pair_count = values.get(current_sdr, 0)\n",
    "      pair_count = pair_count + 1\n",
    "      if self.pairs.get(self.previous_sdr, None) is None:\n",
    "        self.pairs[self.previous_sdr] = { current_sdr: pair_count }\n",
    "      else:\n",
    "        self.pairs[self.previous_sdr][current_sdr] = pair_count\n",
    "    self.previous_sdr = current_sdr\n",
    "\n",
    "  def find(self, sdr):\n",
    "    values = self.pairs.get(sdr, {})\n",
    "    return_value = 0\n",
    "    return_key = None\n",
    "    for key, value in values.items():\n",
    "      if value > return_value:\n",
    "        return_value = value\n",
    "        return_key = key\n",
    "    return return_value, return_key\n"
   ]
  },
  {
   "cell_type": "code",
   "execution_count": 3,
   "metadata": {},
   "outputs": [],
   "source": [
    "inputDimensions = (32, 32)\n",
    "activeDimensions = (64, 64)\n",
    "\n",
    "config = {\n",
    "    'sp': {\n",
    "        'inputDimensions': inputDimensions,\n",
    "        'columnDimensions': activeDimensions,\n",
    "        'potentialPct': 0.85,\n",
    "        'potentialRadius': inputDimensions[0] * inputDimensions[1],\n",
    "        'globalInhibition': True,\n",
    "        'localAreaDensity': 0.04395604395604396,\n",
    "        'synPermInactiveDec': 0.006,\n",
    "        'synPermActiveInc': 0.04,\n",
    "        'synPermConnected': 0.13999999999999999,\n",
    "        'boostStrength': 3.0,\n",
    "        'wrapAround': True,\n",
    "        'seed': 1,\n",
    "        'learn': False\n",
    "    },\n",
    "    'tm': {\n",
    "        'cellsPerColumn': 13,\n",
    "        'activationThreshold': 17,\n",
    "        'initialPermanence': 0.21,\n",
    "        'minThreshold': 10,\n",
    "        'maxNewSynapseCount': 32,\n",
    "        'permanenceIncrement': 0.1,\n",
    "        'permanenceDecrement': 0.1,\n",
    "        'predictedSegmentDecrement': 0.0,\n",
    "        'maxSegmentsPerCell': 128,\n",
    "        'maxSynapsesPerSegment': 64,\n",
    "        'learn': True\n",
    "    }\n",
    "}\n"
   ]
  },
  {
   "cell_type": "code",
   "execution_count": 4,
   "metadata": {},
   "outputs": [],
   "source": [
    "inputSDR  = SDR(dimensions = inputDimensions)\n",
    "activeSDR = SDR(dimensions = activeDimensions)\n",
    "\n",
    "sp = SpatialPooler(\n",
    "    inputDimensions = config['sp']['inputDimensions'],\n",
    "    columnDimensions = config['sp']['columnDimensions'],\n",
    "    potentialPct = config['sp']['potentialPct'],\n",
    "    potentialRadius = config['sp']['potentialRadius'],\n",
    "    globalInhibition = config['sp']['globalInhibition'],\n",
    "    localAreaDensity = config['sp']['localAreaDensity'],\n",
    "    synPermInactiveDec = config['sp']['synPermInactiveDec'],\n",
    "    synPermActiveInc = config['sp']['synPermActiveInc'],\n",
    "    synPermConnected = config['sp']['synPermConnected'],\n",
    "    boostStrength = config['sp']['boostStrength'],\n",
    "    wrapAround = config['sp']['wrapAround'],\n",
    "    seed = config['sp']['seed']\n",
    "  )\n",
    "\n",
    "tm = TemporalMemory(\n",
    "    columnDimensions = config['sp']['columnDimensions'],\n",
    "    cellsPerColumn = config['tm']['cellsPerColumn'],\n",
    "    activationThreshold = config['tm']['activationThreshold'],\n",
    "    initialPermanence = config['tm']['initialPermanence'],\n",
    "    connectedPermanence = config['sp']['synPermConnected'],\n",
    "    minThreshold = config['tm']['minThreshold'],\n",
    "    maxNewSynapseCount = config['tm']['maxNewSynapseCount'],\n",
    "    permanenceIncrement = config['tm']['permanenceIncrement'],\n",
    "    permanenceDecrement = config['tm']['permanenceDecrement'],\n",
    "    predictedSegmentDecrement = config['tm']['predictedSegmentDecrement'],\n",
    "    maxSegmentsPerCell = config['tm']['maxSegmentsPerCell'],\n",
    "    maxSynapsesPerSegment = config['tm']['maxSynapsesPerSegment']\n",
    "  )\n",
    "\n",
    "rm = ReflexiveMemory()"
   ]
  },
  {
   "cell_type": "code",
   "execution_count": 5,
   "metadata": {},
   "outputs": [],
   "source": [
    "inputSequence = []\n",
    "for i in range(10):\n",
    "    inputSDR.randomize(0.02)\n",
    "    inputSequence.append(copy.deepcopy(inputSDR.sparse))\n",
    "\n",
    "inputSequence.append(inputSequence[0])\n",
    "inputSequence.append(inputSequence[1])\n",
    "inputSequence.append(inputSequence[2])\n",
    "inputSequence.append(inputSequence[0])\n",
    "inputSequence.append(inputSequence[2])"
   ]
  },
  {
   "cell_type": "code",
   "execution_count": 6,
   "metadata": {},
   "outputs": [],
   "source": [
    "for i in inputSequence:\n",
    "    inputSDR.sparse = i\n",
    "    sp.compute(inputSDR, config['sp']['learn'], activeSDR)\n",
    "    rm.add(copy.deepcopy(activeSDR.sparse))\n",
    "    tm.compute(activeSDR, learn=config['tm']['learn'])\n"
   ]
  },
  {
   "cell_type": "code",
   "execution_count": 7,
   "metadata": {},
   "outputs": [
    {
     "name": "stdout",
     "output_type": "stream",
     "text": [
      "ebfc62e8e1ec4dc3f882fade5a8b629d 4823ae145ac1b7c7f7c9c7eb61c4fa94 2\n",
      "ebfc62e8e1ec4dc3f882fade5a8b629d 50cf4b8ec998d6bbcc7905792d08bdc8 1\n",
      "4823ae145ac1b7c7f7c9c7eb61c4fa94 50cf4b8ec998d6bbcc7905792d08bdc8 2\n",
      "50cf4b8ec998d6bbcc7905792d08bdc8 4e5421f56769c5e7f8372a6a2466b541 1\n",
      "50cf4b8ec998d6bbcc7905792d08bdc8 ebfc62e8e1ec4dc3f882fade5a8b629d 1\n",
      "4e5421f56769c5e7f8372a6a2466b541 7ce967484df84f2861b2bc55b38fff63 1\n",
      "7ce967484df84f2861b2bc55b38fff63 1b2114cf29162d044d6680bb7c46e201 1\n",
      "1b2114cf29162d044d6680bb7c46e201 26ad37443de2dbe0910548d3b0d9a59c 1\n",
      "26ad37443de2dbe0910548d3b0d9a59c 8a798f6af419c3033e73eddaf6344410 1\n",
      "8a798f6af419c3033e73eddaf6344410 4006b4669014d87e3212ccedf3ced92b 1\n",
      "4006b4669014d87e3212ccedf3ced92b 980839decaca03f469f99af53cd58eff 1\n",
      "980839decaca03f469f99af53cd58eff ebfc62e8e1ec4dc3f882fade5a8b629d 1\n"
     ]
    }
   ],
   "source": [
    "import hashlib\n",
    "\n",
    "for key1, value1 in rm.pairs.items():\n",
    "    for key2, value2 in value1.items():\n",
    "        result = hashlib.md5(key1.encode())\n",
    "        print(result.hexdigest(), end=' ')\n",
    "        result = hashlib.md5(key2.encode())\n",
    "        print(result.hexdigest(), end=' ')\n",
    "        print(value2)"
   ]
  },
  {
   "cell_type": "code",
   "execution_count": null,
   "metadata": {},
   "outputs": [],
   "source": []
  }
 ],
 "metadata": {
  "kernelspec": {
   "display_name": "Python 3",
   "language": "python",
   "name": "python3"
  },
  "language_info": {
   "codemirror_mode": {
    "name": "ipython",
    "version": 3
   },
   "file_extension": ".py",
   "mimetype": "text/x-python",
   "name": "python",
   "nbconvert_exporter": "python",
   "pygments_lexer": "ipython3",
   "version": "3.11.9"
  }
 },
 "nbformat": 4,
 "nbformat_minor": 2
}
