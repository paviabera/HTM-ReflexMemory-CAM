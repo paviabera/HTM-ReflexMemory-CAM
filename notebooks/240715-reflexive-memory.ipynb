{
 "cells": [
  {
   "cell_type": "code",
   "execution_count": 1,
   "metadata": {},
   "outputs": [],
   "source": [
    "from htm.bindings.sdr import SDR, Metrics\n",
    "from htm.encoders.rdse import RDSE, RDSE_Parameters\n",
    "from htm.encoders.date import DateEncoder\n",
    "from htm.algorithms import SpatialPooler\n",
    "from htm.bindings.algorithms import TemporalMemory\n",
    "from htm.algorithms.anomaly_likelihood import AnomalyLikelihood\n",
    "import numpy as np\n",
    "import pandas as pd\n",
    "import pathlib\n",
    "import datetime\n",
    "import csv"
   ]
  },
  {
   "cell_type": "code",
   "execution_count": 2,
   "metadata": {},
   "outputs": [],
   "source": [
    "inputSources = [\n",
    "    \"hourly_numentaTM_speed_7578.csv\",\n",
    "    \"hourly_numentaTM_iio_us-east-1_i-a2eb1cd9_NetworkIn.csv\",\n",
    "    \"hourly_numentaTM_exchange-3_cpc_results.csv\",\n",
    "    \"hourly_numentaTM_exchange-3_cpm_results.csv\",\n",
    "    \"hourly_numentaTM_exchange-2_cpc_results.csv\",\n",
    "    \"hourly_numentaTM_exchange-2_cpm_results.csv\",\n",
    "    \"hourly_numentaTM_exchange-4_cpc_results.csv\",\n",
    "    \"hourly_numentaTM_exchange-4_cpm_results.csv\",\n",
    "    \"hourly_numentaTM_rogue_agent_key_hold.csv\",\n",
    "    \"hourly_numentaTM_TravelTime_451.csv\",\n",
    "    \"hourly_numentaTM_occupancy_6005.csv\",\n",
    "    \"hourly_numentaTM_speed_t4013.csv\",\n",
    "    \"hourly_numentaTM_TravelTime_387.csv\",\n",
    "    \"hourly_numentaTM_occupancy_t4013.csv\",\n",
    "    \"hourly_numentaTM_speed_6005.csv\",\n",
    "    \"hourly_numentaTM_art_daily_flatmiddle.csv\",\n",
    "    \"hourly_numentaTM_art_daily_jumpsdown.csv\",\n",
    "    \"hourly_numentaTM_art_daily_jumpsup.csv\",\n",
    "    \"hourly_numentaTM_art_daily_no_noise.csv\",\n",
    "    \"hourly_numentaTM_art_daily_nojump.csv\",\n",
    "    \"hourly_numentaTM_art_daily_perfect_square_wave.csv\",\n",
    "    \"hourly_numentaTM_art_daily_small_noise.csv\",\n",
    "    \"hourly_numentaTM_art_flatline.csv\",\n",
    "    \"hourly_numentaTM_art_increase_spike_density.csv\",\n",
    "    \"hourly_numentaTM_art_load_balancer_spikes.csv\",\n",
    "    \"hourly_numentaTM_art_noisy.csv\",\n",
    "    \"hourly_numentaTM_ec2_cpu_utilization_24ae8d.csv\",\n",
    "    \"hourly_numentaTM_ec2_cpu_utilization_53ea38.csv\",\n",
    "    \"hourly_numentaTM_ec2_cpu_utilization_5f5533.csv\",\n",
    "    \"hourly_numentaTM_ec2_cpu_utilization_77c1ca.csv\",\n",
    "    \"hourly_numentaTM_ec2_cpu_utilization_825cc2.csv\",\n",
    "    \"hourly_numentaTM_ec2_cpu_utilization_ac20cd.csv\",\n",
    "    \"hourly_numentaTM_ec2_cpu_utilization_c6585a.csv\",\n",
    "    \"hourly_numentaTM_ec2_cpu_utilization_fe7f93.csv\",\n",
    "    \"hourly_numentaTM_ec2_disk_write_bytes_c0d644.csv\",\n",
    "    \"hourly_numentaTM_ec2_network_in_257a54.csv\",\n",
    "    \"hourly_numentaTM_ec2_request_latency_system_failure.csv\",\n",
    "    \"hourly_numentaTM_elb_request_count_8c0756.csv\",\n",
    "    \"hourly_numentaTM_rds_cpu_utilization_cc0c53.csv\",\n",
    "    \"hourly_numentaTM_rds_cpu_utilization_e47b3b.csv\",\n",
    "    \"hourly_numentaTM_grok_asg_anomaly.csv\",\n",
    "    \"hourly_numentaTM_ec2_disk_write_bytes_1ef3de.csv\",\n",
    "    \"hourly_numentaTM_ec2_network_in_5abac7.csv\",\n",
    "    \"hourly_numentaTM_rogue_agent_key_updown.csv\",\n",
    "    \"hourly_numentaTM_ambient_temperature_system_failure.csv\",\n",
    "    \"hourly_numentaTM_nyc_taxi.csv\",\n",
    "    \"hourly_numentaTM_Twitter_volume_AMZN.csv\",\n",
    "    \"hourly_numentaTM_Twitter_volume_FB.csv\",\n",
    "    \"hourly_numentaTM_Twitter_volume_GOOG.csv\",\n",
    "    \"hourly_numentaTM_Twitter_volume_KO.csv\",\n",
    "    \"hourly_numentaTM_Twitter_volume_CVS.csv\",\n",
    "    \"hourly_numentaTM_Twitter_volume_PFE.csv\",\n",
    "    \"hourly_numentaTM_Twitter_volume_UPS.csv\",\n",
    "    \"hourly_numentaTM_Twitter_volume_IBM.csv\",\n",
    "    \"hourly_numentaTM_Twitter_volume_AAPL.csv\",\n",
    "    \"hourly_numentaTM_Twitter_volume_CRM.csv\",\n",
    "    \"hourly_numentaTM_cpu_utilization_asg_misconfiguration.csv\",\n",
    "    \"hourly_numentaTM_machine_temperature_system_failure.csv\",\n",
    "#    \"value1_pseudo_periodic_synthetic_1.csv\",\n",
    "#    \"value1_pseudo_periodic_synthetic_2.csv\",\n",
    "#    \"value1_pseudo_periodic_synthetic_3.csv\",\n",
    "#    \"value1_pseudo_periodic_synthetic_4.csv\",\n",
    "#    \"value1_pseudo_periodic_synthetic_5.csv\",\n",
    "#    \"value1_pseudo_periodic_synthetic_6.csv\",\n",
    "#    \"value1_pseudo_periodic_synthetic_7.csv\",\n",
    "#    \"value1_pseudo_periodic_synthetic_8.csv\",\n",
    "#    \"value1_pseudo_periodic_synthetic_9.csv\",\n",
    "#    \"value1_pseudo_periodic_synthetic_10.csv\",\n",
    "#    \"monthly_gold_prices.csv\",\n",
    "#    \"monthly_sp500.csv\",\n",
    "#    \"weekly_dow_jones.csv\",\n",
    "#    \"weekly_nasdaq.csv\",\n",
    "#    \"weekly_sp500.csv\",\n",
    "#    \"monthly_vix_close.csv\",\n",
    "#    \"monthly_vix_high.csv\",\n",
    "#    \"monthly_vix_low.csv\",\n",
    "#    \"monthly_vix_open.csv\",\n",
    "#    \"daily_natural_gas.csv\",\n",
    "#    \"daily_oil_prices.csv\",\n",
    "#    \"value1_vix_close.csv\",\n",
    "#    \"value1_vix_high.csv\",\n",
    "#    \"value1_vix_low.csv\",\n",
    "#    \"value1_vix_open.csv\"\n",
    "]"
   ]
  },
  {
   "cell_type": "code",
   "execution_count": 3,
   "metadata": {},
   "outputs": [],
   "source": [
    "\n",
    "config = {\n",
    "    'enc': {\n",
    "        \"value\" :\n",
    "            {'resolution': 0.88, 'size': 700, 'sparsity': 0.02},\n",
    "        \"time\": \n",
    "            {'timeOfDay': (30, 1), 'weekend': 21}\n",
    "    },\n",
    "    'sp': {\n",
    "        'inputDimensions': None,\n",
    "        'columnDimensions': (1638,),\n",
    "        'potentialPct': 0.85,\n",
    "        'potentialRadius': None,\n",
    "        'globalInhibition': True,\n",
    "        'localAreaDensity': 0.04395604395604396,\n",
    "        'synPermInactiveDec': 0.006,\n",
    "        'synPermActiveInc': 0.04,\n",
    "        'synPermConnected': 0.13999999999999999,\n",
    "        'boostStrength': 3.0,\n",
    "        'wrapAround': True,\n",
    "        'seed': 1,\n",
    "        'learn': False\n",
    "    },\n",
    "    'tm': {\n",
    "        'cellsPerColumn': 13,\n",
    "        'activationThreshold': 17,\n",
    "        'initialPermanence': 0.21,\n",
    "        'minThreshold': 10,\n",
    "        'maxNewSynapseCount': 32,\n",
    "        'permanenceIncrement': 0.1,\n",
    "        'permanenceDecrement': 0.1,\n",
    "        'predictedSegmentDecrement': 0.0,\n",
    "        'maxSegmentsPerCell': 128,\n",
    "        'maxSynapsesPerSegment': 64,\n",
    "        'learn': True\n",
    "    },\n",
    "    'anomaly': {'period': 1000}\n",
    "}\n"
   ]
  },
  {
   "cell_type": "code",
   "execution_count": 4,
   "metadata": {},
   "outputs": [
    {
     "name": "stdout",
     "output_type": "stream",
     "text": [
      "hourly_numentaTM_speed_7578.csv\n"
     ]
    }
   ],
   "source": [
    "input_path = pathlib.Path('../datasets')\n",
    "for dataset in inputSources:\n",
    "\n",
    "    print(dataset)\n",
    "    records = []\n",
    "    with open(input_path.joinpath(dataset), \"r\") as fin:\n",
    "        reader = csv.reader(fin)\n",
    "        headers = next(reader)\n",
    "        next(reader)\n",
    "        next(reader)\n",
    "        for record in reader:\n",
    "            records.append(record)\n",
    "    \n",
    "    dateEncoder = DateEncoder(\n",
    "        timeOfDay= config[\"enc\"][\"time\"][\"timeOfDay\"], \n",
    "        weekend  = config[\"enc\"][\"time\"][\"weekend\"]\n",
    "    ) \n",
    "    \n",
    "    scalarEncoderParams = RDSE_Parameters()\n",
    "    scalarEncoderParams.size = config[\"enc\"][\"value\"][\"size\"]\n",
    "    scalarEncoderParams.sparsity = config[\"enc\"][\"value\"][\"sparsity\"]\n",
    "    scalarEncoderParams.resolution = config[\"enc\"][\"value\"][\"resolution\"]\n",
    "    scalarEncoder = RDSE( scalarEncoderParams )\n",
    "    encodingWidth = (dateEncoder.size + scalarEncoder.size)\n",
    "    \n",
    "    config['sp']['inputDimensions'] = (encodingWidth,)\n",
    "    config['sp']['potentialRadius'] = encodingWidth\n",
    "\n",
    "\n",
    "    sp = SpatialPooler(\n",
    "        inputDimensions = config['sp']['inputDimensions'],\n",
    "        columnDimensions = config['sp']['columnDimensions'],\n",
    "        potentialPct = config['sp']['potentialPct'],\n",
    "        potentialRadius = config['sp']['potentialRadius'],\n",
    "        globalInhibition = config['sp']['globalInhibition'],\n",
    "        localAreaDensity = config['sp']['localAreaDensity'],\n",
    "        synPermInactiveDec = config['sp']['synPermInactiveDec'],\n",
    "        synPermActiveInc = config['sp']['synPermActiveInc'],\n",
    "        synPermConnected = config['sp']['synPermConnected'],\n",
    "        boostStrength = config['sp']['boostStrength'],\n",
    "        wrapAround = config['sp']['wrapAround'],\n",
    "        seed = config['sp']['seed']\n",
    "    )\n",
    "\n",
    "    tm = TemporalMemory(\n",
    "        columnDimensions = config['sp']['columnDimensions'],\n",
    "        cellsPerColumn = config['tm']['cellsPerColumn'],\n",
    "        activationThreshold = config['tm']['activationThreshold'],\n",
    "        initialPermanence = config['tm']['initialPermanence'],\n",
    "        connectedPermanence = config['sp']['synPermConnected'],\n",
    "        minThreshold = config['tm']['minThreshold'],\n",
    "        maxNewSynapseCount = config['tm']['maxNewSynapseCount'],\n",
    "        permanenceIncrement = config['tm']['permanenceIncrement'],\n",
    "        permanenceDecrement = config['tm']['permanenceDecrement'],\n",
    "        predictedSegmentDecrement = config['tm']['predictedSegmentDecrement'],\n",
    "        maxSegmentsPerCell = config['tm']['maxSegmentsPerCell'],\n",
    "        maxSynapsesPerSegment = config['tm']['maxSynapsesPerSegment']\n",
    "    )\n",
    "\n",
    "    enc_info = Metrics( [encodingWidth], 999999999)\n",
    "    sp_info = Metrics( sp.getColumnDimensions(), 999999999 )\n",
    "    tm_info = Metrics( [tm.numberOfCells()], 999999999 )\n",
    "    anomaly_history = AnomalyLikelihood(config[\"anomaly\"][\"period\"])\n",
    "\n",
    "    inputs = []\n",
    "    anomaly = []\n",
    "    anomalyProb = []\n",
    "    for count, record in enumerate(records):\n",
    "\n",
    "        dateString = datetime.datetime.strptime(record[0], \"%Y-%m-%d %H:%M:%S\")\n",
    "        consumption = float(record[1])\n",
    "        inputs.append( consumption )\n",
    "        \n",
    "        dateBits = dateEncoder.encode(dateString)\n",
    "        consumptionBits = scalarEncoder.encode(consumption)\n",
    "        \n",
    "        encoding = SDR( encodingWidth ).concatenate([consumptionBits, dateBits])\n",
    "        enc_info.addData( encoding )\n",
    "        \n",
    "        activeColumns = SDR( sp.getColumnDimensions() )\n",
    "        \n",
    "        sp.compute(encoding, True, activeColumns)\n",
    "        sp_info.addData( activeColumns )\n",
    "        \n",
    "        tm.compute(activeColumns, learn=True)\n",
    "        tm_info.addData( tm.getActiveCells().flatten() )\n",
    "        \n",
    "        anomaly.append( tm.anomaly )\n",
    "        anomalyProb.append( anomaly_history.compute(tm.anomaly) )\n",
    "\n",
    "    break\n",
    "\n"
   ]
  },
  {
   "cell_type": "code",
   "execution_count": 5,
   "metadata": {},
   "outputs": [
    {
     "name": "stdout",
     "output_type": "stream",
     "text": [
      "Encoded Input SDR( 1462 )\n",
      "    Sparsity Min/Mean/Std/Max 0.0437757 / 0.0442791 / 0.000301489 / 0.0444596\n",
      "    Activation Frequency Min/Mean/Std/Max 0 / 0.0442789 / 0.123293 / 0.971555\n",
      "    Entropy 0.583571\n",
      "    Overlap Min/Mean/Std/Max 0.123077 / 0.86017 / 0.0993103 / 0.969231\n"
     ]
    }
   ],
   "source": [
    "print(\"Encoded Input\", enc_info)"
   ]
  },
  {
   "cell_type": "code",
   "execution_count": 6,
   "metadata": {},
   "outputs": [
    {
     "name": "stdout",
     "output_type": "stream",
     "text": [
      "Spatial Pooler Mini-Columns SDR( 1638 )\n",
      "    Sparsity Min/Mean/Std/Max 0.043956 / 0.0439559 / 3.43303e-07 / 0.043956\n",
      "    Activation Frequency Min/Mean/Std/Max 0 / 0.043956 / 0.0301775 / 0.100444\n",
      "    Entropy 0.911491\n",
      "    Overlap Min/Mean/Std/Max 0 / 0.774293 / 0.180165 / 0.986111\n",
      "Spatial Pooler Connections:\n",
      "    Inputs (1462) ~> Outputs (1638) via Segments (1638)\n",
      "    Segments on Cell Min/Mean/Max 1 / 1 / 1\n",
      "    Potential Synapses on Segment Min/Mean/Max 1243 / 1243 / 1243\n",
      "    Connected Synapses on Segment Min/Mean/Max 258 / 466.184 / 666\n",
      "    Synapses Dead (0.425195%) Saturated (0.0225492%)\n",
      "    Synapses pruned (0%) Segments pruned (0%)\n",
      "    Buffer for destroyed synapses: 0    Buffer for destroyed segments: 0\n",
      "\n"
     ]
    }
   ],
   "source": [
    "print(\"Spatial Pooler Mini-Columns\", sp_info)\n",
    "print(str(sp))"
   ]
  },
  {
   "cell_type": "code",
   "execution_count": 7,
   "metadata": {},
   "outputs": [
    {
     "name": "stdout",
     "output_type": "stream",
     "text": [
      "Temporal Memory Cells SDR( 21294 )\n",
      "    Sparsity Min/Mean/Std/Max 0.00338123 / 0.0106672 / 0.0103376 / 0.043956\n",
      "    Activation Frequency Min/Mean/Std/Max 0 / 0.0106676 / 0.0125134 / 0.087111\n",
      "    Entropy 0.894548\n",
      "    Overlap Min/Mean/Std/Max 0 / 0.479038 / 0.249011 / 0.980198\n",
      "Temporal Memory Connections:\n",
      "    Inputs (6182) ~> Outputs (21294) via Segments (7848)\n",
      "    Segments on Cell Min/Mean/Max 0 / 0.368555 / 4\n",
      "    Potential Synapses on Segment Min/Mean/Max 32 / 43.3137 / 64\n",
      "    Connected Synapses on Segment Min/Mean/Max 29 / 39.416 / 64\n",
      "    Synapses Dead (0%) Saturated (0.136138%)\n",
      "    Synapses pruned (0.620959%) Segments pruned (0%)\n",
      "    Buffer for destroyed synapses: 0    Buffer for destroyed segments: 0\n",
      "\n"
     ]
    }
   ],
   "source": [
    "print(\"Temporal Memory Cells\", tm_info)\n",
    "print(str(tm))\n"
   ]
  },
  {
   "cell_type": "code",
   "execution_count": 8,
   "metadata": {},
   "outputs": [
    {
     "name": "stdout",
     "output_type": "stream",
     "text": [
      "Anomaly Mean 0.16369135866810877\n",
      "Anomaly Std  0.26240922808158795\n"
     ]
    }
   ],
   "source": [
    "  print(\"Anomaly Mean\", np.mean(anomaly))\n",
    "  print(\"Anomaly Std \", np.std(anomaly))"
   ]
  },
  {
   "cell_type": "code",
   "execution_count": 9,
   "metadata": {},
   "outputs": [
    {
     "data": {
      "image/png": "[encoded data removed]",
      "text/plain": [
       "<Figure size 640x480 with 1 Axes>"
      ]
     },
     "metadata": {},
     "output_type": "display_data"
    }
   ],
   "source": [
    "import matplotlib.pyplot as plt\n",
    "\n",
    "plt.subplot(2,1,2)\n",
    "plt.title(\"Anomaly Score\")\n",
    "plt.xlabel(\"Time\")\n",
    "plt.ylabel(\"Power Consumption\")\n",
    "inputs = np.array(inputs) / max(inputs)\n",
    "plt.plot(np.arange(len(inputs)), inputs, 'black',\n",
    "            np.arange(len(inputs)), anomaly, 'blue',\n",
    "            np.arange(len(inputs)), anomalyProb, 'red',)\n",
    "plt.legend(labels=('Input', 'Instantaneous Anomaly', 'Anomaly Likelihood'))\n",
    "plt.show()\n"
   ]
  }
 ],
 "metadata": {
  "kernelspec": {
   "display_name": "Python 3",
   "language": "python",
   "name": "python3"
  },
  "language_info": {
   "codemirror_mode": {
    "name": "ipython",
    "version": 3
   },
   "file_extension": ".py",
   "mimetype": "text/x-python",
   "name": "python",
   "nbconvert_exporter": "python",
   "pygments_lexer": "ipython3",
   "version": "3.11.9"
  }
 },
 "nbformat": 4,
 "nbformat_minor": 2
}
